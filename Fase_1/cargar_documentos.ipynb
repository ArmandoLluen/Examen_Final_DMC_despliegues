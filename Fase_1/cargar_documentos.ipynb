{
 "cells": [
  {
   "cell_type": "code",
   "execution_count": 4,
   "id": "0dfaa531",
   "metadata": {},
   "outputs": [],
   "source": [
    "# CARGA DE DOCUMENTOS\n",
    "from langchain_community.document_loaders import DirectoryLoader, PyPDFLoader, TextLoader\n",
    "\n",
    "# DIVISIÓN DE TEXTOS\n",
    "from langchain_text_splitters import RecursiveCharacterTextSplitter\n",
    "\n",
    "# EMBEDDINGS (Hugging Face)\n",
    "from langchain_huggingface import HuggingFaceEmbeddings\n",
    "\n",
    "# BASE VECTORIAL (Pinecone)\n",
    "from langchain_community.vectorstores import Pinecone as PineconeVectorStore\n",
    "from pinecone import Pinecone, ServerlessSpec\n",
    "\n",
    "# UTILIDADES\n",
    "import os"
   ]
  },
  {
   "cell_type": "code",
   "execution_count": 5,
   "id": "153afe5d",
   "metadata": {},
   "outputs": [
    {
     "name": "stdout",
     "output_type": "stream",
     "text": [
      "Índice ya existente.\n"
     ]
    }
   ],
   "source": [
    "# CONFIGURACIÓN INICIAL\n",
    "\n",
    "# API Keys\n",
    "PINECONE_API_KEY = \"pcsk_oQEHh_KkpDbvQ7WYWi177E8am5aWiBDoWZpqL6fhPrbpGXqnJhjCSwuqZn9jzRc23Giot\"\n",
    "os.environ[\"PINECONE_API_KEY\"] = PINECONE_API_KEY\n",
    "\n",
    "# Inicializar Pinecone\n",
    "pc = Pinecone(api_key=PINECONE_API_KEY)\n",
    "index_name = \"indice-huggingface\"\n",
    "\n",
    "# Crear el índice si no existe\n",
    "if index_name not in [i[\"name\"] for i in pc.list_indexes()]:\n",
    "    pc.create_index(\n",
    "        name=index_name,\n",
    "        dimension=384,  # tamaño del embedding del modelo\n",
    "        metric=\"cosine\",\n",
    "        spec=ServerlessSpec(cloud=\"aws\", region=\"us-east-1\")\n",
    "    )\n",
    "    print(\"Índice creado en Pinecone.\")\n",
    "else:\n",
    "    print(\"Índice ya existente.\")\n",
    "\n",
    "index = pc.Index(index_name)"
   ]
  },
  {
   "cell_type": "code",
   "execution_count": 6,
   "id": "db7daebf",
   "metadata": {},
   "outputs": [
    {
     "name": "stdout",
     "output_type": "stream",
     "text": [
      "Documentos cargados: 27\n",
      "Total de fragmentos creados: 131\n"
     ]
    }
   ],
   "source": [
    "#CARGA Y PREPARACIÓN DE DOCUMENTOS (LangChain)\n",
    "\n",
    "# Carga automática de todos los PDF de la carpeta 'pdf/'\n",
    "loader = DirectoryLoader(\"pdf/\", glob=\"**/*.pdf\", loader_cls=PyPDFLoader)\n",
    "documents = loader.load()\n",
    "\n",
    "print(f\"Documentos cargados: {len(documents)}\")\n",
    "\n",
    "# Limpiar texto\n",
    "for doc in documents:\n",
    "    doc.page_content = \" \".join(doc.page_content.split())\n",
    "\n",
    "# Dividir textos en fragmentos\n",
    "text_splitter = RecursiveCharacterTextSplitter(\n",
    "    chunk_size=400,    # tamaño del fragmento\n",
    "    chunk_overlap=20,  # solapamiento entre fragmentos\n",
    "    length_function=len,\n",
    "    separators=[\"\\n\\n\", \"\\n\", \" \", \"\"]\n",
    ")\n",
    "\n",
    "docs_chunks = text_splitter.split_documents(documents)\n",
    "print(f\"Total de fragmentos creados: {len(docs_chunks)}\")"
   ]
  },
  {
   "cell_type": "code",
   "execution_count": 7,
   "id": "322aaa50",
   "metadata": {},
   "outputs": [
    {
     "name": "stdout",
     "output_type": "stream",
     "text": [
      "Almacenados 50 de 131 registros en Pinecone.\n",
      "Almacenados 100 de 131 registros en Pinecone.\n",
      "Almacenados 131 de 131 registros en Pinecone.\n",
      "Todos los embeddings han sido almacenados en Pinecone.\n"
     ]
    }
   ],
   "source": [
    "#GENERAR EMBEDDINGS CON HUGGING FACE\n",
    "\n",
    "# Usaremos el modelo de Hugging Face \"all-MiniLM-L6-v2\"\n",
    "embeddings_model = HuggingFaceEmbeddings(model_name=\"sentence-transformers/all-MiniLM-L6-v2\")\n",
    "\n",
    "# Generar embeddings y preparar registros para Pinecone\n",
    "records = []\n",
    "for i, doc in enumerate(docs_chunks):\n",
    "    emb_vector = embeddings_model.embed_query(doc.page_content)\n",
    "    record = {\n",
    "        \"id\": f\"chunk_{i}\",\n",
    "        \"values\": emb_vector,\n",
    "        \"metadata\": {\n",
    "            \"text\": doc.page_content,\n",
    "            \"page\": doc.metadata.get(\"page\", 0),\n",
    "            \"source\": doc.metadata.get(\"source\", \"\")\n",
    "        }\n",
    "    }\n",
    "    records.append(record)\n",
    "\n",
    "# Almacenar los embeddings en Pinecone (upsert)\n",
    "batch_size = 50\n",
    "for i in range(0, len(records), batch_size):\n",
    "    batch = records[i:i + batch_size]\n",
    "    index.upsert(vectors=batch)\n",
    "    print(f\"Almacenados {i + len(batch)} de {len(records)} registros en Pinecone.\")\n",
    "\n",
    "# Confirmación final\n",
    "print(\"Todos los embeddings han sido almacenados en Pinecone.\")"
   ]
  },
  {
   "cell_type": "code",
   "execution_count": 8,
   "id": "5e050e42",
   "metadata": {},
   "outputs": [
    {
     "name": "stdout",
     "output_type": "stream",
     "text": [
      "\n",
      "🔎 Resultados más relevantes:\n",
      "\n",
      "Score: 0.7239\n",
      "Texto: Jenaro et al. 3 integran en el cyberbullying cinco componentes: es una agresión relacional o interpersonal; se hace forma intencionada; es repetitiva en el tiempo; se da en situaciones asimétricas; se realiza usando TIC. Por su parte, Buelga et al. 4 diferencian entre los cyberbullyings directos, en...\n",
      "\n",
      "Score: 0.7058\n",
      "Texto: Resumen: El cyberbullying es una problemática con una elevada prevalencia y que puede producir una gran variedad de problemas (ansiedad, depresión, ideación suicida, soledad, fracaso académico, entre otros). Ante la escasez de investigaciones, en Perú, este estudio tiene como objetivo explorar la pr...\n",
      "\n",
      "Score: 0.7045\n",
      "Texto: o inhibir el cyberbulling La evolución, actual, de las redes sociales facilitan el cyberbullying 6 y la adicción o el uso intensivo de las redes sociales es un predictor del cyberbulling 7–10. Igualmente, las conductas y usos inadecuados de las TIC y la adicción a Internet pueden generar ciberbullyi...\n"
     ]
    }
   ],
   "source": [
    "# CONSULTA DE PRUEBA\n",
    "\n",
    "def text_to_vector(query_text):\n",
    "    return embeddings_model.embed_query(query_text)\n",
    "\n",
    "query = \"Qué es el cyberbullying?\"\n",
    "query_vector = text_to_vector(query)\n",
    "\n",
    "results = index.query(\n",
    "    vector=query_vector,\n",
    "    top_k=3,\n",
    "    include_metadata=True\n",
    ")\n",
    "\n",
    "print(\"\\n🔎 Resultados más relevantes:\")\n",
    "for match in results['matches']:\n",
    "    print(f\"\\nScore: {match['score']:.4f}\")\n",
    "    print(f\"Texto: {match['metadata']['text'][:300]}...\")"
   ]
  }
 ],
 "metadata": {
  "kernelspec": {
   "display_name": ".venv",
   "language": "python",
   "name": "python3"
  },
  "language_info": {
   "codemirror_mode": {
    "name": "ipython",
    "version": 3
   },
   "file_extension": ".py",
   "mimetype": "text/x-python",
   "name": "python",
   "nbconvert_exporter": "python",
   "pygments_lexer": "ipython3",
   "version": "3.10.0"
  }
 },
 "nbformat": 4,
 "nbformat_minor": 5
}
